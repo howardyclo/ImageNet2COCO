{
 "cells": [
  {
   "cell_type": "markdown",
   "metadata": {},
   "source": [
    "# Let's map ImageNet (1000) labels to COCO (80) label!"
   ]
  },
  {
   "cell_type": "code",
   "execution_count": 1,
   "metadata": {},
   "outputs": [],
   "source": [
    "import operator\n",
    "from collections import defaultdict\n",
    "from nltk.corpus import wordnet as wn"
   ]
  },
  {
   "cell_type": "markdown",
   "metadata": {},
   "source": [
    "### Read ImageNet labels\n",
    "- Each label in imagenet may contain multiple entities, e.g., 'tench, Tinca tinca'. \n",
    "- These entities are all from wordnet synsets.\n",
    "- We split them and normalize each entity to be queryable by wordnet synset, e.g., 'tench, Tinca tinca' -> ['tench', 'tinca_tinca']."
   ]
  },
  {
   "cell_type": "code",
   "execution_count": 2,
   "metadata": {},
   "outputs": [],
   "source": [
    "imagenet_ids = []\n",
    "imagenet_labels = []\n",
    "imagenet_labels_words = []\n",
    "\n",
    "with open('./imagenet_1000_labels.txt', 'r') as file:\n",
    "    for i, line in enumerate(file):\n",
    "        id_, label = line.strip().split(': ')\n",
    "        label_words = ['_'.join(s.split()).lower() for s in label.split(', ') if s]\n",
    "        imagenet_ids.append(id_)\n",
    "        imagenet_labels.append(label)\n",
    "        imagenet_labels_words.append(label_words)"
   ]
  },
  {
   "cell_type": "code",
   "execution_count": 3,
   "metadata": {},
   "outputs": [
    {
     "data": {
      "text/plain": [
       "(1000, 1000, 1000)"
      ]
     },
     "execution_count": 3,
     "metadata": {},
     "output_type": "execute_result"
    }
   ],
   "source": [
    "len(imagenet_ids), len(imagenet_labels), len(imagenet_labels_words)"
   ]
  },
  {
   "cell_type": "markdown",
   "metadata": {},
   "source": [
    "### Read COCO labels\n",
    "And also normalized it to wordnet synset format, e.g., 'traffic light' -> 'traffic_light'"
   ]
  },
  {
   "cell_type": "code",
   "execution_count": 4,
   "metadata": {},
   "outputs": [
    {
     "data": {
      "text/plain": [
       "80"
      ]
     },
     "execution_count": 4,
     "metadata": {},
     "output_type": "execute_result"
    }
   ],
   "source": [
    "coco_labels = []\n",
    "\n",
    "with open('coco_labels.txt', 'r') as file:\n",
    "    for line in file:\n",
    "        coco_labels.append('_'.join(line.strip().split()).lower())\n",
    "        \n",
    "len(coco_labels)"
   ]
  },
  {
   "cell_type": "markdown",
   "metadata": {},
   "source": [
    "### How do we map a ImageNet label to COCO label?\n",
    "1. For a ImageNet label, find the common synset of every entity in that label. \n",
    "2. With the common synset, we can get all its hypernyms.\n",
    "3. If its hypernyms match one of the coco labels, we map this imagenet label to the matched coco label (1-1 mapping)."
   ]
  },
  {
   "cell_type": "code",
   "execution_count": 5,
   "metadata": {},
   "outputs": [],
   "source": [
    "def common_synset(words):\n",
    "    synsets = []\n",
    "    for word in words:\n",
    "        synsets.extend(wn.synsets(word))\n",
    "    count_dict = defaultdict(lambda: 0)\n",
    "    for synset in synsets:\n",
    "        count_dict[synset.name()] += 1\n",
    "    try:\n",
    "        common_synset_name = sorted(count_dict.items(), key=operator.itemgetter(1), reverse=True)[0][0]\n",
    "    except:\n",
    "        print(words, count_dict)\n",
    "    return wn.synset(common_synset_name)\n",
    "\n",
    "def get_hypernyms(synset):\n",
    "    return [s[0].name().split('.')[0] for s in list(synset.hypernym_distances())]"
   ]
  },
  {
   "cell_type": "code",
   "execution_count": 6,
   "metadata": {},
   "outputs": [],
   "source": [
    "imagenet2coco = [None for _ in range(len(imagenet_labels))]\n",
    "\n",
    "for i, imagenet_label_words in enumerate(imagenet_labels_words):\n",
    "    imagenet_label_hypernyms = get_hypernyms(common_synset(imagenet_label_words))\n",
    "    for coco_label in coco_labels:\n",
    "        if coco_label in imagenet_label_hypernyms:\n",
    "            imagenet2coco[i] = coco_label"
   ]
  },
  {
   "cell_type": "code",
   "execution_count": 7,
   "metadata": {},
   "outputs": [
    {
     "data": {
      "text/plain": [
       "725"
      ]
     },
     "execution_count": 7,
     "metadata": {},
     "output_type": "execute_result"
    }
   ],
   "source": [
    "# There are 725 imagenet labels are not belong to COCO label.\n",
    "len([label for label in imagenet2coco if label == None])"
   ]
  },
  {
   "cell_type": "markdown",
   "metadata": {},
   "source": [
    "### Save results\n",
    "Format of each line: `{imagenet_folder_id}\\t{imagnet_label}\\t{coco_label}`. Note that `{coco_label}` may be `None` if no mapping."
   ]
  },
  {
   "cell_type": "code",
   "execution_count": 8,
   "metadata": {},
   "outputs": [],
   "source": [
    "with open('imagenet2coco.txt', 'w') as file:\n",
    "    for i, (id_, label, coco_label) in enumerate(zip(imagenet_ids, imagenet_labels, imagenet2coco)):\n",
    "        if i != len(imagenet_labels) - 1:\n",
    "            file.write(f'{id_}\\t{label}\\t{coco_label}\\n')\n",
    "        else:\n",
    "            file.write(f'{id_}\\t{label}\\t{coco_label}')"
   ]
  },
  {
   "cell_type": "markdown",
   "metadata": {},
   "source": [
    "### Reference\n",
    "- [ImageNet download](http://image-net.org/download): Login first, and download orginal images (2012).\n",
    "- ImageNet preprocessing:\n",
    "    - [Extract nested training image tars](https://github.com/arundasan91/Deep-Learning-with-Caffe/blob/master/Imagenet/How-to-properly-set-up-Imagenet-Dataset.md)\n",
    "    - [Move validation images to hashed-class-named folders ](https://raw.githubusercontent.com/soumith/imagenetloader.torch/master/valprep.sh)\n",
    "- [ImageNet all class mapping](https://github.com/tensorflow/models/blob/master/research/inception/inception/data/imagenet_metadata.txt)\n",
    "- [Imagenet 1000 class mapping](https://gist.github.com/yrevar/667fd94b94f1666137f45d1363f60910): We re-format it in our repo.\n",
    "- [Simpler human-readable labels for ImageNet](https://github.com/anishathalye/imagenet-simple-labels)\n",
    "- [ImageNet training in PyTorch](https://github.com/pytorch/examples/tree/master/imagenet)"
   ]
  }
 ],
 "metadata": {
  "kernelspec": {
   "display_name": "Python 3",
   "language": "python",
   "name": "python3"
  },
  "language_info": {
   "codemirror_mode": {
    "name": "ipython",
    "version": 3
   },
   "file_extension": ".py",
   "mimetype": "text/x-python",
   "name": "python",
   "nbconvert_exporter": "python",
   "pygments_lexer": "ipython3",
   "version": "3.6.8"
  }
 },
 "nbformat": 4,
 "nbformat_minor": 2
}
